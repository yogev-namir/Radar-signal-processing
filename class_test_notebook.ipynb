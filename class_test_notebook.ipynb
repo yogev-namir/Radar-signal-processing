{
 "cells": [
  {
   "cell_type": "code",
   "execution_count": 4,
   "metadata": {},
   "outputs": [],
   "source": [
    "import os\n",
    "from scipy.io import loadmat\n",
    "import numpy as np"
   ]
  },
  {
   "cell_type": "code",
   "execution_count": 1,
   "metadata": {},
   "outputs": [
    {
     "name": "stdout",
     "output_type": "stream",
     "text": [
      "\n",
      "Loading dataset...\n",
      "Total samples loaded: 7552\n"
     ]
    }
   ],
   "source": [
    "from my_radar_dataset import MyRadarDataset\n",
    "\n",
    "# Create a folder for dummy .mat files\n",
    "test_folder = 'mat_files'\n",
    "\n",
    "# Initialize MyRadarDataset\n",
    "radar_dataset = MyRadarDataset()\n",
    "\n",
    "# Load the dataset\n",
    "print(\"\\nLoading dataset...\")\n",
    "try:\n",
    "    radar_dataset.load(folder=test_folder)\n",
    "    print(f\"Total samples loaded: {radar_dataset.num_samples}\")\n",
    "except Exception as e:\n",
    "    print(f\"Error loading data: {e}\")"
   ]
  },
  {
   "cell_type": "code",
   "execution_count": 5,
   "metadata": {},
   "outputs": [
    {
     "name": "stdout",
     "output_type": "stream",
     "text": [
      "\n",
      "Retrieving a sample...\n",
      "Sample 5 retrieved successfully.\n",
      "  x: [[-1.59432210e+01  1.35796134e+02  1.26786904e+02  1.53996342e+02\n",
      "   1.30250409e+01  5.76189520e-04 -1.00000000e+00  1.48063430e+01]]\n",
      "  y: [4]\n",
      "  file_name: file1.mat\n",
      "\n",
      "Testing bad sample indices...\n",
      "Correctly handled bad sample index -1: Sample index out of range\n",
      "Correctly handled bad sample index 7553: Sample index out of range\n"
     ]
    }
   ],
   "source": [
    "\n",
    "# Get a sample\n",
    "print(\"\\nRetrieving a sample...\")\n",
    "try:\n",
    "    sample_index = 5\n",
    "    x, y, file_name = radar_dataset.get(sample_index)\n",
    "    assert x.shape == (1, 8), f\"Incorrect shape for x: {x.shape}\"\n",
    "    assert y.shape == (1,), f\"Incorrect shape for y: {y.shape}\"\n",
    "    print(f\"Sample {sample_index} retrieved successfully.\")\n",
    "    print(f\"  x: {x}\")\n",
    "    print(f\"  y: {y}\")\n",
    "    print(f\"  file_name: {file_name}\")\n",
    "except (ValueError, IndexError) as e:\n",
    "    print(f\"Error retrieving sample {sample_index}: {e}\")\n",
    "\n",
    "# Test bad sample index\n",
    "print(\"\\nTesting bad sample indices...\")\n",
    "try:\n",
    "    bad_sample_index = -1\n",
    "    radar_dataset.get(bad_sample_index)\n",
    "except Exception as e:\n",
    "    print(f\"Correctly handled bad sample index {bad_sample_index}: {e}\")\n",
    "\n",
    "try:\n",
    "    bad_sample_index = radar_dataset.num_samples + 1\n",
    "    radar_dataset.get(bad_sample_index)\n",
    "except Exception as e:\n",
    "    print(f\"Correctly handled bad sample index {bad_sample_index}: {e}\")\n"
   ]
  },
  {
   "cell_type": "code",
   "execution_count": 6,
   "metadata": {},
   "outputs": [
    {
     "name": "stdout",
     "output_type": "stream",
     "text": [
      "\n",
      "Splitting the dataset...\n",
      "Dataset 1 samples: 3776\n",
      "Dataset 2 samples: 3776\n",
      "\n",
      "Testing bad split indexes...\n",
      "Correctly handled bad split indexes: slice_indexes must be a list, tuple, or numpy array\n"
     ]
    }
   ],
   "source": [
    "\n",
    "# Split the dataset\n",
    "print(\"\\nSplitting the dataset...\")\n",
    "try:\n",
    "    split_index = np.arange(radar_dataset.num_samples // 2)\n",
    "    dataset1, dataset2 = radar_dataset.split(split_index)\n",
    "    print(f\"Dataset 1 samples: {dataset1.num_samples}\")\n",
    "    print(f\"Dataset 2 samples: {dataset2.num_samples}\")\n",
    "    assert dataset1.data.shape == (dataset1.num_samples, 1, 8), \"Incorrect shape for dataset1 data\"\n",
    "    assert dataset1.labels.shape == (dataset1.num_samples, 1), \"Incorrect shape for dataset1 labels\"\n",
    "    assert dataset2.data.shape == (dataset2.num_samples, 1, 8), \"Incorrect shape for dataset2 data\"\n",
    "    assert dataset2.labels.shape == (dataset2.num_samples, 1), \"Incorrect shape for dataset2 labels\"\n",
    "except Exception as e:\n",
    "    print(f\"Error splitting dataset: {e}\")\n",
    "\n",
    "# Test bad split indexes\n",
    "print(\"\\nTesting bad split indexes...\")\n",
    "try:\n",
    "    bad_split_index = \"not a list\"\n",
    "    radar_dataset.split(bad_split_index)\n",
    "except Exception as e:\n",
    "    print(f\"Correctly handled bad split indexes: {e}\")\n"
   ]
  },
  {
   "cell_type": "code",
   "execution_count": 7,
   "metadata": {},
   "outputs": [
    {
     "name": "stdout",
     "output_type": "stream",
     "text": [
      "\n",
      "Randomly splitting the dataset...\n",
      "Random split - Dataset 3 samples: 5286\n",
      "Random split - Dataset 4 samples: 2266\n",
      "\n",
      "Testing bad ratios for random split...\n",
      "Correctly handled bad ratio -0.5: ratio must be between 0 and 1\n",
      "Correctly handled bad ratio 1.5: ratio must be between 0 and 1\n"
     ]
    }
   ],
   "source": [
    "\n",
    "# Random split the dataset\n",
    "print(\"\\nRandomly splitting the dataset...\")\n",
    "try:\n",
    "    dataset3, dataset4 = radar_dataset.random_split() # default is 0.7\n",
    "    print(f\"Random split - Dataset 3 samples: {dataset3.num_samples}\")\n",
    "    print(f\"Random split - Dataset 4 samples: {dataset4.num_samples}\")\n",
    "    assert dataset3.data.shape == (dataset3.num_samples, 1, 8), \"Incorrect shape for dataset3 data\"\n",
    "    assert dataset3.labels.shape == (dataset3.num_samples, 1), \"Incorrect shape for dataset3 labels\"\n",
    "    assert dataset4.data.shape == (dataset4.num_samples, 1, 8), \"Incorrect shape for dataset4 data\"\n",
    "    assert dataset4.labels.shape == (dataset4.num_samples, 1), \"Incorrect shape for dataset4 labels\"\n",
    "except Exception as e:\n",
    "    print(f\"Error in random split: {e}\")\n",
    "\n",
    "# Test bad ratio for random split\n",
    "print(\"\\nTesting bad ratios for random split...\")\n",
    "try:\n",
    "    bad_ratio = -0.5\n",
    "    radar_dataset.random_split(ratio=bad_ratio)\n",
    "except Exception as e:\n",
    "    print(f\"Correctly handled bad ratio {bad_ratio}: {e}\")\n",
    "\n",
    "try:\n",
    "    bad_ratio = 1.5\n",
    "    radar_dataset.random_split(ratio=bad_ratio)\n",
    "except Exception as e:\n",
    "    print(f\"Correctly handled bad ratio {bad_ratio}: {e}\")\n"
   ]
  },
  {
   "cell_type": "code",
   "execution_count": 8,
   "metadata": {},
   "outputs": [
    {
     "name": "stdout",
     "output_type": "stream",
     "text": [
      "\n",
      "Generating batches...\n",
      "Generating batches of size 3:\n",
      "  Batch 0 retrieved successfully.\n",
      "    x_batch: [[ 1.05588594e+02 -5.46621973e+01  3.01084878e+02  1.13513804e+02\n",
      "   1.26109534e+01  1.70257965e+02  5.44571020e-02  1.30124504e+01]\n",
      " [-1.08912179e+01 -3.30121989e+01  3.29953221e+01  4.58332195e+01\n",
      "   2.10018154e-01  1.89529508e-02  3.21247667e-01  2.96171631e+00]\n",
      " [-7.61048851e+01  8.97550396e+01  5.06968142e+02  2.17921185e+02\n",
      "  -2.13948448e+01  2.52211833e+00  4.96793874e-02  2.15597775e+01]]\n",
      "    y_batch: [2 4 2]\n",
      "  Batch 1 retrieved successfully.\n",
      "    x_batch: [[ 1.07410382e+01  5.94914292e+00  2.21692734e+01  2.17670524e+01\n",
      "  -3.13257716e-01  1.16170084e+00  5.73766343e-02  3.42043933e+00]\n",
      " [-2.80090953e+01  1.29036246e+01  2.59569837e+01  4.53956008e+01\n",
      "  -6.16810017e-01  3.40265930e+02  1.69767424e-01  4.78017440e+00]\n",
      " [-6.51163659e+01  1.24496005e+02  3.22226049e+01  2.19605398e+01\n",
      "   1.54709907e+01  1.17663750e-02  1.50067255e-01  1.90719144e+01]]\n",
      "    y_batch: [2 4 4]\n"
     ]
    }
   ],
   "source": [
    "\n",
    "# Generate batches\n",
    "print(\"\\nGenerating batches...\")\n",
    "try:\n",
    "    batch_size = 3\n",
    "    generator = radar_dataset.get_generator(batch_size=batch_size, shuffle=True)\n",
    "    print(f\"Generating batches of size {batch_size}:\")\n",
    "    for i, (x_batch, y_batch) in enumerate(generator):\n",
    "        assert x_batch.shape[1] == 8, f\"Incorrect shape for x_batch: {x_batch.shape}\"\n",
    "        assert y_batch.shape[0] == x_batch.shape[0], f\"y_batch and x_batch size mismatch: {y_batch.shape}, {x_batch.shape}\"\n",
    "        print(f\"  Batch {i} retrieved successfully.\")\n",
    "        print(f\"    x_batch: {x_batch}\")\n",
    "        print(f\"    y_batch: {y_batch}\")\n",
    "        if i >= 1:  # Limit the number of batches printed\n",
    "            break\n",
    "except Exception as e:\n",
    "    print(f\"Error generating batches: {e}\")"
   ]
  }
 ],
 "metadata": {
  "kernelspec": {
   "display_name": "Python 3",
   "language": "python",
   "name": "python3"
  },
  "language_info": {
   "codemirror_mode": {
    "name": "ipython",
    "version": 3
   },
   "file_extension": ".py",
   "mimetype": "text/x-python",
   "name": "python",
   "nbconvert_exporter": "python",
   "pygments_lexer": "ipython3",
   "version": "3.11.5"
  }
 },
 "nbformat": 4,
 "nbformat_minor": 2
}
